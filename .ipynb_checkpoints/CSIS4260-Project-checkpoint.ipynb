{
 "cells": [
  {
   "cell_type": "markdown",
   "id": "e5e3a521",
   "metadata": {},
   "source": [
    "# Lets put a title here\n",
    "we have 4 steps in this project\n",
    "add whatever we want to explain the overall idea in here"
   ]
  },
  {
   "cell_type": "markdown",
   "id": "96ec89c1",
   "metadata": {},
   "source": [
    "STEP 1 : Convert Audio to text using Google Speech"
   ]
  },
  {
   "cell_type": "code",
   "execution_count": 17,
   "id": "a4a612cc",
   "metadata": {
    "scrolled": true
   },
   "outputs": [
    {
     "name": "stdout",
     "output_type": "stream",
     "text": [
      "Waiting for operation to complete...\n",
      "Transcript: hello everyone, my name is Aaron and me and my team are going to be presenting a web app we are planning to develop and it's going to be called and they're going to give you guys an overview of the progress has been made so far and if you guys an overview of the requirements of project and why we came up with this idea and we plan to kids at the zoo\n",
      "Confidence: 0.9223180413246155\n",
      "Transcript:  so first I'm going to give you an overview of the business case what what sparked an idea for a team to develop his app I think in the past few years that a lot of great bars and I'm set up in coming up. However due to the panda make that's being a lot of a hindrance on the growth of these bars and clubs\n",
      "Confidence: 0.9375283122062683\n"
     ]
    }
   ],
   "source": [
    "from google.cloud import speech\n",
    "import wave\n",
    "\n",
    "client = speech.SpeechClient.from_service_account_file('key.json')\n",
    "file_name = 'audio.wav'\n",
    "\n",
    "with wave.open(file_name, 'rb') as wav_file:\n",
    "    # Get the frame rate and number of channels\n",
    "    frame_rate = wav_file.getframerate()\n",
    "    num_channels = wav_file.getnchannels()\n",
    "    \n",
    "    # Read the first minute of audio frames\n",
    "    start_frame = 0\n",
    "    end_frame = frame_rate * 60\n",
    "    wav_file.setpos(start_frame)\n",
    "    frames = wav_file.readframes(end_frame - start_frame)\n",
    "    \n",
    "    # Convert the frames to bytes\n",
    "    bytes_per_sample = wav_file.getsampwidth()\n",
    "    byte_frames = bytes_per_sample * num_channels * (end_frame - start_frame)\n",
    "    wav_data = frames[:byte_frames]\n",
    "    \n",
    "audio = speech.RecognitionAudio(content=wav_data)\n",
    "\n",
    "config = speech.RecognitionConfig(\n",
    "        encoding=speech.RecognitionConfig.AudioEncoding.LINEAR16,\n",
    "        sample_rate_hertz=48000,\n",
    "        language_code=\"en-US\",\n",
    "        enable_word_time_offsets=True,\n",
    "    )\n",
    "\n",
    "operation = client.long_running_recognize(config=config, audio=audio)\n",
    "print(\"Waiting for operation to complete...\\n\\n\")\n",
    "response= operation.result()\n",
    "\n",
    "for result in response.results:\n",
    "    alternative = result.alternatives[0]\n",
    "    print(\"Transcript: {}\".format(alternative.transcript))\n",
    "    print(\"Confidence: {}\".format(alternative.confidence))"
   ]
  },
  {
   "cell_type": "markdown",
   "id": "536f3826",
   "metadata": {},
   "source": [
    "STEP 2: Group Words for Each second Making it Easy to Create Subtitle Files"
   ]
  },
  {
   "cell_type": "code",
   "execution_count": null,
   "id": "65efd478",
   "metadata": {},
   "outputs": [],
   "source": [
    "import pandas as pd\n",
    "\n",
    "content =[]\n",
    "\n",
    "for result in response.results:\n",
    "    alternative = result.alternatives[0]\n",
    "    for i in range(len(alternative.words)):\n",
    "        content.append({'Word' : alternative.words[i].word, 'Start_time' :alternative.words[i].start_time.seconds })\n",
    "#     print((alternative.words[i].start_time.seconds))\n",
    "#     print((alternative.words[i].word))\n",
    "\n",
    "\n",
    "# create a DataFrame from the list of dictionaries\n",
    "df = pd.DataFrame(content)\n",
    "# print(df)\n",
    "# group by start_time seconds\n",
    "grouped = df.groupby('Start_time')\n",
    "\n",
    "# # iterate over the groups and print the words in each group\n",
    "for name, group in grouped:\n",
    "    print(f\"Words in group with start_time.seconds = {name}:\")\n",
    "    print(group['Word'].tolist())\n",
    "    print()\n"
   ]
  },
  {
   "cell_type": "code",
   "execution_count": 30,
   "id": "8855847d",
   "metadata": {},
   "outputs": [
    {
     "name": "stdout",
     "output_type": "stream",
     "text": [
      "\n",
      "\n",
      "Result in Tamil / தமிழ் :\n",
      "\n",
      "அனைவருக்கும் வணக்கம், எனது பெயர் ஆரோன் மற்றும் நானும் எனது குழுவும் நாங்கள் உருவாக்கத் திட்டமிட்டுள்ள ஒரு வலை பயன்பாட்டை வழங்கப் போகிறோம், அது அழைக்கப்படப் போகிறது, மேலும் அவர்கள் உங்களுக்கு முன்னேற்றம் குறித்த ஒரு கண்ணோட்டத்தை வழங்கப் போகிறார்கள்நீங்கள் திட்டத்தின் தேவைகள் பற்றிய ஒரு கண்ணோட்டத்தை நீங்கள் செய்தால், ஏன் இந்த யோசனையை நாங்கள் கொண்டு வந்தோம், நாங்கள் மிருகக்காட்சிசாலையில் குழந்தைகளுக்குத் திட்டமிட்டால், முதலில் நான் வணிக வழக்கைப் பற்றிய ஒரு கண்ணோட்டத்தை உங்களுக்கு வழங்கப் போகிறேன்அவரது பயன்பாட்டை உருவாக்க கடந்த சில ஆண்டுகளில் நிறைய பெரிய பார்கள் மற்றும் நான் வருவதில் அமைக்கப்பட்டிருக்கிறேன் என்று நினைக்கிறேன்.எவ்வாறாயினும், இந்த பார்கள் மற்றும் கிளப்புகளின் வளர்ச்சிக்கு இது மிகவும் தடையாக இருப்பதால் பாண்டா தயாரித்தல் காரணமாக\n",
      "\n",
      "\n",
      "Result in Sinhalese / සිංහල :\n",
      "\n",
      "ආයුබෝවන්, මගේ නම ආරොන් සහ මම සහ මගේ කණ්ඩායම අපි සංවර්ධනය කිරීමට සැලසුම් කරන අතරමම වෙබ් යෙදුමක් ඉදිරිපත් කරන්නෙමු. එය කැඳවනු ඇත, ඔවුන් ඔබට ලබා දෙනු ඇතඔබ ව්යාපෘතියේ අවශ්යතා පිළිබඳ දළ විශ්ලේෂණයක් කර ඇත්නම් සහ අපි මෙම අදහස සමඟ දළ විශ්ලේෂණයක් කර ඇති අතර අපි සත්වෝද්යානයේ ළමයින්ට සැලසුම් කළෙමු.ඔහුගේ යෙදුම සංවර්ධනය කිරීම සඳහා මම හිතන්නේ පසුගිය වසර කිහිපය තුළ විශාල බාර් බොහොමයක් සහ මම පෙනී සිටියෙමි.කෙසේ වෙතත් පැන්ඩා හේතුවෙන් මෙම බාර් සහ සමාජශාලාවන්ගේ වර්ධනයට විශාල බාධාවක් වනු ඇත\n",
      "\n",
      "\n",
      "Result in Turkish / Türkçe :\n",
      "\n",
      "Herkese merhaba, benim adım Aaron ve ben ve ekibim geliştirmeyi planladığımız bir web uygulaması sunacak ve çağrılacak ve size şimdiye kadar ilerlemeye genel bir bakış sunacaklarVe eğer projenin gereksinimlerine ve neden bu fikri bulduğumuza genel bir bakış ve hayvanat bahçesinde çocukları planlıyoruz, bu yüzden önce size bir ekip için bir fikri tetikleyen şeylere genel bir bakış vereceğimOnun uygulamasını geliştirmek için son birkaç yıldır çok büyük çubuklar olduğunu düşünüyorum ve gelmeye hazırım.Ancak panda yapımı nedeniyle bu, bu çubukların ve kulüplerin büyümesine çok fazla engel oluyor\n"
     ]
    }
   ],
   "source": [
    "from googletrans import Translator\n",
    "\n",
    "text =\"\"\n",
    "\n",
    "for result in response.results:\n",
    "    alternative = result.alternatives[0]\n",
    "    text+= alternative.transcript\n",
    "    \n",
    "translator = Translator()\n",
    "\n",
    "Tamil = translator.translate('tamil', dest='ta')\n",
    "TamilText = translator.translate(text, dest='ta')\n",
    "print(\"\\n\\nResult in Tamil / \" + Tamil.text + \" :\\n\")\n",
    "print(TamilText.text)\n",
    "\n",
    "Sinhalese = translator.translate('Sinhalese', dest='si')\n",
    "SinhaleseText = translator.translate(text, dest='si')\n",
    "print(\"\\n\\nResult in Sinhalese / \" + Sinhalese.text + \" :\\n\")\n",
    "print(SinhaleseText.text)\n",
    "\n",
    "Turkish = translator.translate('Turkish', dest='tr')\n",
    "TurkishText = translator.translate(text, dest='tr')\n",
    "print(\"\\n\\nResult in Turkish / \" + Turkish.text + \" :\\n\")\n",
    "print(TurkishText.text)"
   ]
  },
  {
   "cell_type": "code",
   "execution_count": 31,
   "id": "79889a98",
   "metadata": {},
   "outputs": [],
   "source": [
    "import gtts\n",
    "\n",
    "tts = gtts.gTTS(TamilText.text,lang=\"ta\")\n",
    "tts.save(\"tamilAudio.mp3\")\n",
    "tts = gtts.gTTS(SinhaleseText.text,lang=\"si\")\n",
    "tts.save(\"SinhalaAudio.mp3\")\n",
    "tts = gtts.gTTS(TurkishText.text,lang=\"tr\")\n",
    "tts.save(\"TurkishAudio.mp3\")"
   ]
  },
  {
   "cell_type": "code",
   "execution_count": 34,
   "id": "65420013",
   "metadata": {},
   "outputs": [
    {
     "data": {
      "image/png": "[encoded data removed]",
      "text/plain": [
       "<Figure size 640x480 with 1 Axes>"
      ]
     },
     "metadata": {},
     "output_type": "display_data"
    }
   ],
   "source": [
    "from scipy.io.wavfile import read\n",
    "import matplotlib.pyplot as plt\n",
    "\n",
    "Fs,data = read('audio.wav')\n",
    "\n",
    "plt.subplot(211)\n",
    "plt.plot(data)\n",
    "plt.xlabel('Sample')\n",
    "plt.ylabel('Amplitude')\n",
    "plt.title('Input audio signal')\n",
    "plt.show()"
   ]
  },
  {
   "cell_type": "code",
   "execution_count": null,
   "id": "ddffd523",
   "metadata": {},
   "outputs": [],
   "source": []
  }
 ],
 "metadata": {
  "kernelspec": {
   "display_name": "Python 3 (ipykernel)",
   "language": "python",
   "name": "python3"
  },
  "language_info": {
   "codemirror_mode": {
    "name": "ipython",
    "version": 3
   },
   "file_extension": ".py",
   "mimetype": "text/x-python",
   "name": "python",
   "nbconvert_exporter": "python",
   "pygments_lexer": "ipython3",
   "version": "3.9.13"
  }
 },
 "nbformat": 4,
 "nbformat_minor": 5
}
