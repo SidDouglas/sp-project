{
 "cells": [
  {
   "cell_type": "code",
   "execution_count": 3,
   "id": "d1f426eb",
   "metadata": {},
   "outputs": [
    {
     "ename": "SyntaxError",
     "evalue": "invalid syntax (4119220257.py, line 1)",
     "output_type": "error",
     "traceback": [
      "\u001b[1;36m  File \u001b[1;32m\"C:\\Users\\sidha\\AppData\\Local\\Temp\\ipykernel_21844\\4119220257.py\"\u001b[1;36m, line \u001b[1;32m1\u001b[0m\n\u001b[1;33m    pip install pandas\u001b[0m\n\u001b[1;37m        ^\u001b[0m\n\u001b[1;31mSyntaxError\u001b[0m\u001b[1;31m:\u001b[0m invalid syntax\n"
     ]
    }
   ],
   "source": [
    "pip install pandas\n",
    "# pip install googletrans"
   ]
  },
  {
   "cell_type": "code",
   "execution_count": 1,
   "id": "cc7f45b3",
   "metadata": {},
   "outputs": [
    {
     "name": "stdout",
     "output_type": "stream",
     "text": [
      "result2:\n",
      "{   'alternative': [   {   'confidence': 0.9476043,\n",
      "                           'transcript': 'there is an hello everyone so my '\n",
      "                                         'name is Arun and me and my team are '\n",
      "                                         'going to be presenting a web app we '\n",
      "                                         \"are planning to develop and it's \"\n",
      "                                         \"going to be called Baja and we're \"\n",
      "                                         'going to give you guys an overview '\n",
      "                                         'of the progress that we made so far '\n",
      "                                         'and give you guys an overview of the '\n",
      "                                         'requirements of the project and why '\n",
      "                                         'we came up with this idea and who we '\n",
      "                                         'plan to'},\n",
      "                       {   'transcript': \"there's an hello everyone so my name \"\n",
      "                                         'is Arun and me and my team are going '\n",
      "                                         'to be presenting a web app we are '\n",
      "                                         \"planning to develop and it's going \"\n",
      "                                         \"to be called Baja and we're going to \"\n",
      "                                         'give you guys an overview of the '\n",
      "                                         'progress that we made so far and '\n",
      "                                         'give you guys an overview of the '\n",
      "                                         'requirements of the project and why '\n",
      "                                         'we came up with this idea and who we '\n",
      "                                         'plan to'},\n",
      "                       {   'transcript': 'there is an hello everyone so my '\n",
      "                                         'name is Aaron and me and my team are '\n",
      "                                         'going to be presenting a web app we '\n",
      "                                         \"are planning to develop and it's \"\n",
      "                                         \"going to be called Baja and we're \"\n",
      "                                         'going to give you guys an overview '\n",
      "                                         'of the progress that we made so far '\n",
      "                                         'and give you guys an overview of the '\n",
      "                                         'requirements of the project and why '\n",
      "                                         'we came up with this idea and who we '\n",
      "                                         'plan to'},\n",
      "                       {   'transcript': \"there's a hello everyone so my name \"\n",
      "                                         'is Arun and me and my team are going '\n",
      "                                         'to be presenting a web app we are '\n",
      "                                         \"planning to develop and it's going \"\n",
      "                                         \"to be called Baja and we're going to \"\n",
      "                                         'give you guys an overview of the '\n",
      "                                         'progress that we made so far and '\n",
      "                                         'give you guys an overview of the '\n",
      "                                         'requirements of the project and why '\n",
      "                                         'we came up with this idea and who we '\n",
      "                                         'plan to'},\n",
      "                       {   'transcript': \"there's an hello everyone so my name \"\n",
      "                                         'is Aaron and me and my team are '\n",
      "                                         'going to be presenting a web app we '\n",
      "                                         \"are planning to develop and it's \"\n",
      "                                         \"going to be called Baja and we're \"\n",
      "                                         'going to give you guys an overview '\n",
      "                                         'of the progress that we made so far '\n",
      "                                         'and give you guys an overview of the '\n",
      "                                         'requirements of the project and why '\n",
      "                                         'we came up with this idea and who we '\n",
      "                                         'plan to'}],\n",
      "    'final': True}\n",
      "Result in Tamil\n",
      "அனைவருக்கும் வணக்கம், எனது பெயர் அருண் மற்றும் நானும் எனது குழுவும் நாங்கள் உருவாக்க திட்டமிட்டுள்ள ஒரு வலை செயலியை வழங்கப் போகிறோம், அது பாஜா என்று அழைக்கப்படுகிறது, மேலும் முன்னேற்றம் பற்றிய ஒரு கண்ணோட்டத்தை உங்களுக்கு வழங்கப் போகிறோம். நாங்கள் இதுவரை செய்துள்ளோம் மற்றும் திட்டத்தின் தேவைகள் மற்றும் இந்த யோசனையை நாங்கள் ஏன் கொண்டு வந்தோம் மற்றும் யாரை நாங்கள் திட்டமிடுகிறோம் என்பது பற்றிய கண்ணோட்டத்தை உங்களுக்கு வழங்குகிறோம்\n",
      "Result in Sinhalese\n",
      "Result in Turkish\n",
      "Herkese merhaba, benim adım Arun ve ekibimle birlikte geliştirmeyi planladığımız Baja adlı bir web uygulamasını sunacağım ve size ilerlemenin bir özetini sunacağım. Şimdiye kadar neler yaptığımıza, proje gereksinimlerine ve bu fikri neden ortaya koyduğumuza ve kimleri planladığımıza dair bir genel bakış sunuyoruz.\n"
     ]
    }
   ],
   "source": [
    "import gtts\n",
    "import speech_recognition as sr\n",
    "from googletrans import Translator\n",
    "recognizer = sr.Recognizer()\n",
    "recognizer.energy_threshold = 300\n",
    "cleanCall = sr.AudioFile('audio.wav')\n",
    "with cleanCall as source:\n",
    "    audiodata = recognizer.record(cleanCall,duration = 30)\n",
    "# type(audiodata)\n",
    "text = recognizer.recognize_google(\n",
    "  audio_data= audiodata, \n",
    "  language='en-US')\n",
    "\n",
    "translator = Translator()\n",
    "result = translator.translate(text, dest='ta')\n",
    "print(\"Result in Tamil\")\n",
    "print(result.text)\n",
    "result2 = translator.translate(result.text, dest='si')\n",
    "print(\"Result in Sinhalese\")\n",
    "result3 = translator.translate(result.text, dest='tr')\n",
    "print(\"Result in Turkish\")\n",
    "print(result3.text)\n",
    "tts = gtts.gTTS(result.text,lang=\"ta\")\n",
    "tts.save(\"tamilSubs.mp3\")\n",
    "tts = gtts.gTTS(result2.text,lang=\"si\")\n",
    "tts.save(\"SinhalaSubs.mp3\")\n",
    "tts = gtts.gTTS(result3.text,lang=\"tr\")\n",
    "tts.save(\"TurkishSubs.mp3\")\n",
    "\n"
   ]
  },
  {
   "cell_type": "code",
   "execution_count": 17,
   "id": "32196974",
   "metadata": {},
   "outputs": [
    {
     "name": "stdout",
     "output_type": "stream",
     "text": [
      "Collecting googletrans==4.0.0rc1\n",
      "  Downloading googletrans-4.0.0rc1.tar.gz (20 kB)\n",
      "  Preparing metadata (setup.py): started\n",
      "  Preparing metadata (setup.py): finished with status 'done'\n",
      "Requirement already satisfied: httpx==0.13.3 in d:\\anaconda\\lib\\site-packages (from googletrans==4.0.0rc1) (0.13.3)\n",
      "Requirement already satisfied: certifi in d:\\anaconda\\lib\\site-packages (from httpx==0.13.3->googletrans==4.0.0rc1) (2022.9.14)\n",
      "Requirement already satisfied: chardet==3.* in d:\\anaconda\\lib\\site-packages (from httpx==0.13.3->googletrans==4.0.0rc1) (3.0.4)\n",
      "Requirement already satisfied: idna==2.* in d:\\anaconda\\lib\\site-packages (from httpx==0.13.3->googletrans==4.0.0rc1) (2.10)\n",
      "Requirement already satisfied: rfc3986<2,>=1.3 in d:\\anaconda\\lib\\site-packages (from httpx==0.13.3->googletrans==4.0.0rc1) (1.5.0)\n",
      "Requirement already satisfied: hstspreload in d:\\anaconda\\lib\\site-packages (from httpx==0.13.3->googletrans==4.0.0rc1) (2023.1.1)\n",
      "Requirement already satisfied: sniffio in d:\\anaconda\\lib\\site-packages (from httpx==0.13.3->googletrans==4.0.0rc1) (1.2.0)\n",
      "Requirement already satisfied: httpcore==0.9.* in d:\\anaconda\\lib\\site-packages (from httpx==0.13.3->googletrans==4.0.0rc1) (0.9.1)\n",
      "Requirement already satisfied: h11<0.10,>=0.8 in d:\\anaconda\\lib\\site-packages (from httpcore==0.9.*->httpx==0.13.3->googletrans==4.0.0rc1) (0.9.0)\n",
      "Requirement already satisfied: h2==3.* in d:\\anaconda\\lib\\site-packages (from httpcore==0.9.*->httpx==0.13.3->googletrans==4.0.0rc1) (3.2.0)\n",
      "Requirement already satisfied: hyperframe<6,>=5.2.0 in d:\\anaconda\\lib\\site-packages (from h2==3.*->httpcore==0.9.*->httpx==0.13.3->googletrans==4.0.0rc1) (5.2.0)\n",
      "Requirement already satisfied: hpack<4,>=3.0 in d:\\anaconda\\lib\\site-packages (from h2==3.*->httpcore==0.9.*->httpx==0.13.3->googletrans==4.0.0rc1) (3.0.0)\n",
      "Building wheels for collected packages: googletrans\n",
      "  Building wheel for googletrans (setup.py): started\n",
      "  Building wheel for googletrans (setup.py): finished with status 'done'\n",
      "  Created wheel for googletrans: filename=googletrans-4.0.0rc1-py3-none-any.whl size=17411 sha256=999618d9104b0b2d4e857627929f9feb791f18da0b39f798298c381c9fd30073\n",
      "  Stored in directory: c:\\users\\sidha\\appdata\\local\\pip\\cache\\wheels\\60\\b3\\27\\d8aff3e2d5c2d0d97a117cdf0d5f13cd121e2c2b5fb49b55a0\n",
      "Successfully built googletrans\n",
      "Installing collected packages: googletrans\n",
      "  Attempting uninstall: googletrans\n",
      "    Found existing installation: googletrans 3.0.0\n",
      "    Uninstalling googletrans-3.0.0:\n",
      "      Successfully uninstalled googletrans-3.0.0\n",
      "Successfully installed googletrans-4.0.0rc1\n",
      "Note: you may need to restart the kernel to use updated packages.\n"
     ]
    }
   ],
   "source": [
    "pip install \"googletrans==4.0.0rc1\""
   ]
  },
  {
   "cell_type": "code",
   "execution_count": 8,
   "id": "4d7b94a4",
   "metadata": {},
   "outputs": [
    {
     "name": "stdout",
     "output_type": "stream",
     "text": [
      "வணக்கம், என் பெயர் சித்தார்த்\n"
     ]
    }
   ],
   "source": [
    "from googletrans import Translator\n",
    "translator = Translator()\n",
    "result = translator.translate('Hello, My name is Sidharth', dest='ta')\n",
    "print(result.text)"
   ]
  },
  {
   "cell_type": "code",
   "execution_count": 6,
   "id": "ed64f108",
   "metadata": {},
   "outputs": [],
   "source": [
    "import google.cloud.texttospeech as tts\n",
    "\n",
    "\n",
    "def text_to_wav(voice_name: str, text: str):\n",
    "    language_code = \"-\".join(voice_name.split(\"-\")[:2])\n",
    "    text_input = tts.SynthesisInput(text=text)\n",
    "    voice_params = tts.VoiceSelectionParams(\n",
    "        language_code=language_code, name=voice_name\n",
    "    )\n",
    "    audio_config = tts.AudioConfig(audio_encoding=tts.AudioEncoding.LINEAR16)\n",
    "\n",
    "    client = tts.TextToSpeechClient()\n",
    "    response = client.synthesize_speech(\n",
    "        input=text_input,\n",
    "        voice=voice_params,\n",
    "        audio_config=audio_config,\n",
    "    )\n",
    "\n",
    "    filename = f\"{voice_name}.wav\"\n",
    "    with open(filename, \"wb\") as out:\n",
    "        out.write(response.audio_content)\n",
    "        print(f'Generated speech saved to \"{filename}\"')"
   ]
  },
  {
   "cell_type": "code",
   "execution_count": 7,
   "id": "a08418eb",
   "metadata": {},
   "outputs": [
    {
     "ename": "DefaultCredentialsError",
     "evalue": "Your default credentials were not found. To set up Application Default Credentials, see https://cloud.google.com/docs/authentication/external/set-up-adc for more information.",
     "output_type": "error",
     "traceback": [
      "\u001b[1;31m---------------------------------------------------------------------------\u001b[0m",
      "\u001b[1;31mDefaultCredentialsError\u001b[0m                   Traceback (most recent call last)",
      "\u001b[1;32m~\\AppData\\Local\\Temp\\ipykernel_17988\\1927953930.py\u001b[0m in \u001b[0;36m<module>\u001b[1;34m\u001b[0m\n\u001b[1;32m----> 1\u001b[1;33m \u001b[0mtext_to_wav\u001b[0m\u001b[1;33m(\u001b[0m\u001b[1;34m\"en-AU-Neural2-A\"\u001b[0m\u001b[1;33m,\u001b[0m \u001b[1;34m\"What is the temperature in Sydney?\"\u001b[0m\u001b[1;33m)\u001b[0m\u001b[1;33m\u001b[0m\u001b[1;33m\u001b[0m\u001b[0m\n\u001b[0m\u001b[0;32m      2\u001b[0m \u001b[0mtext_to_wav\u001b[0m\u001b[1;33m(\u001b[0m\u001b[1;34m\"en-GB-Neural2-B\"\u001b[0m\u001b[1;33m,\u001b[0m \u001b[1;34m\"What is the temperature in London?\"\u001b[0m\u001b[1;33m)\u001b[0m\u001b[1;33m\u001b[0m\u001b[1;33m\u001b[0m\u001b[0m\n\u001b[0;32m      3\u001b[0m \u001b[0mtext_to_wav\u001b[0m\u001b[1;33m(\u001b[0m\u001b[1;34m\"en-IN-Wavenet-C\"\u001b[0m\u001b[1;33m,\u001b[0m \u001b[1;34m\"What is the temperature in Delhi?\"\u001b[0m\u001b[1;33m)\u001b[0m\u001b[1;33m\u001b[0m\u001b[1;33m\u001b[0m\u001b[0m\n\u001b[0;32m      4\u001b[0m \u001b[0mtext_to_wav\u001b[0m\u001b[1;33m(\u001b[0m\u001b[1;34m\"en-US-Studio-O\"\u001b[0m\u001b[1;33m,\u001b[0m \u001b[1;34m\"What is the temperature in New York?\"\u001b[0m\u001b[1;33m)\u001b[0m\u001b[1;33m\u001b[0m\u001b[1;33m\u001b[0m\u001b[0m\n\u001b[0;32m      5\u001b[0m \u001b[0mtext_to_wav\u001b[0m\u001b[1;33m(\u001b[0m\u001b[1;34m\"fr-FR-Neural2-A\"\u001b[0m\u001b[1;33m,\u001b[0m \u001b[1;34m\"Quelle est la température à Paris ?\"\u001b[0m\u001b[1;33m)\u001b[0m\u001b[1;33m\u001b[0m\u001b[1;33m\u001b[0m\u001b[0m\n",
      "\u001b[1;32m~\\AppData\\Local\\Temp\\ipykernel_17988\\28362245.py\u001b[0m in \u001b[0;36mtext_to_wav\u001b[1;34m(voice_name, text)\u001b[0m\n\u001b[0;32m     10\u001b[0m     \u001b[0maudio_config\u001b[0m \u001b[1;33m=\u001b[0m \u001b[0mtts\u001b[0m\u001b[1;33m.\u001b[0m\u001b[0mAudioConfig\u001b[0m\u001b[1;33m(\u001b[0m\u001b[0maudio_encoding\u001b[0m\u001b[1;33m=\u001b[0m\u001b[0mtts\u001b[0m\u001b[1;33m.\u001b[0m\u001b[0mAudioEncoding\u001b[0m\u001b[1;33m.\u001b[0m\u001b[0mLINEAR16\u001b[0m\u001b[1;33m)\u001b[0m\u001b[1;33m\u001b[0m\u001b[1;33m\u001b[0m\u001b[0m\n\u001b[0;32m     11\u001b[0m \u001b[1;33m\u001b[0m\u001b[0m\n\u001b[1;32m---> 12\u001b[1;33m     \u001b[0mclient\u001b[0m \u001b[1;33m=\u001b[0m \u001b[0mtts\u001b[0m\u001b[1;33m.\u001b[0m\u001b[0mTextToSpeechClient\u001b[0m\u001b[1;33m(\u001b[0m\u001b[1;33m)\u001b[0m\u001b[1;33m\u001b[0m\u001b[1;33m\u001b[0m\u001b[0m\n\u001b[0m\u001b[0;32m     13\u001b[0m     response = client.synthesize_speech(\n\u001b[0;32m     14\u001b[0m         \u001b[0minput\u001b[0m\u001b[1;33m=\u001b[0m\u001b[0mtext_input\u001b[0m\u001b[1;33m,\u001b[0m\u001b[1;33m\u001b[0m\u001b[1;33m\u001b[0m\u001b[0m\n",
      "\u001b[1;32mD:\\Anaconda\\lib\\site-packages\\google\\cloud\\texttospeech_v1\\services\\text_to_speech\\client.py\u001b[0m in \u001b[0;36m__init__\u001b[1;34m(self, credentials, transport, client_options, client_info)\u001b[0m\n\u001b[0;32m    429\u001b[0m \u001b[1;33m\u001b[0m\u001b[0m\n\u001b[0;32m    430\u001b[0m             \u001b[0mTransport\u001b[0m \u001b[1;33m=\u001b[0m \u001b[0mtype\u001b[0m\u001b[1;33m(\u001b[0m\u001b[0mself\u001b[0m\u001b[1;33m)\u001b[0m\u001b[1;33m.\u001b[0m\u001b[0mget_transport_class\u001b[0m\u001b[1;33m(\u001b[0m\u001b[0mtransport\u001b[0m\u001b[1;33m)\u001b[0m\u001b[1;33m\u001b[0m\u001b[1;33m\u001b[0m\u001b[0m\n\u001b[1;32m--> 431\u001b[1;33m             self._transport = Transport(\n\u001b[0m\u001b[0;32m    432\u001b[0m                 \u001b[0mcredentials\u001b[0m\u001b[1;33m=\u001b[0m\u001b[0mcredentials\u001b[0m\u001b[1;33m,\u001b[0m\u001b[1;33m\u001b[0m\u001b[1;33m\u001b[0m\u001b[0m\n\u001b[0;32m    433\u001b[0m                 \u001b[0mcredentials_file\u001b[0m\u001b[1;33m=\u001b[0m\u001b[0mclient_options\u001b[0m\u001b[1;33m.\u001b[0m\u001b[0mcredentials_file\u001b[0m\u001b[1;33m,\u001b[0m\u001b[1;33m\u001b[0m\u001b[1;33m\u001b[0m\u001b[0m\n",
      "\u001b[1;32mD:\\Anaconda\\lib\\site-packages\\google\\cloud\\texttospeech_v1\\services\\text_to_speech\\transports\\grpc.py\u001b[0m in \u001b[0;36m__init__\u001b[1;34m(self, host, credentials, credentials_file, scopes, channel, api_mtls_endpoint, client_cert_source, ssl_channel_credentials, client_cert_source_for_mtls, quota_project_id, client_info, always_use_jwt_access, api_audience)\u001b[0m\n\u001b[0;32m    147\u001b[0m \u001b[1;33m\u001b[0m\u001b[0m\n\u001b[0;32m    148\u001b[0m         \u001b[1;31m# The base transport sets the host, credentials and scopes\u001b[0m\u001b[1;33m\u001b[0m\u001b[1;33m\u001b[0m\u001b[0m\n\u001b[1;32m--> 149\u001b[1;33m         super().__init__(\n\u001b[0m\u001b[0;32m    150\u001b[0m             \u001b[0mhost\u001b[0m\u001b[1;33m=\u001b[0m\u001b[0mhost\u001b[0m\u001b[1;33m,\u001b[0m\u001b[1;33m\u001b[0m\u001b[1;33m\u001b[0m\u001b[0m\n\u001b[0;32m    151\u001b[0m             \u001b[0mcredentials\u001b[0m\u001b[1;33m=\u001b[0m\u001b[0mcredentials\u001b[0m\u001b[1;33m,\u001b[0m\u001b[1;33m\u001b[0m\u001b[1;33m\u001b[0m\u001b[0m\n",
      "\u001b[1;32mD:\\Anaconda\\lib\\site-packages\\google\\cloud\\texttospeech_v1\\services\\text_to_speech\\transports\\base.py\u001b[0m in \u001b[0;36m__init__\u001b[1;34m(self, host, credentials, credentials_file, scopes, quota_project_id, client_info, always_use_jwt_access, api_audience, **kwargs)\u001b[0m\n\u001b[0;32m     96\u001b[0m             )\n\u001b[0;32m     97\u001b[0m         \u001b[1;32melif\u001b[0m \u001b[0mcredentials\u001b[0m \u001b[1;32mis\u001b[0m \u001b[1;32mNone\u001b[0m\u001b[1;33m:\u001b[0m\u001b[1;33m\u001b[0m\u001b[1;33m\u001b[0m\u001b[0m\n\u001b[1;32m---> 98\u001b[1;33m             credentials, _ = google.auth.default(\n\u001b[0m\u001b[0;32m     99\u001b[0m                 \u001b[1;33m**\u001b[0m\u001b[0mscopes_kwargs\u001b[0m\u001b[1;33m,\u001b[0m \u001b[0mquota_project_id\u001b[0m\u001b[1;33m=\u001b[0m\u001b[0mquota_project_id\u001b[0m\u001b[1;33m\u001b[0m\u001b[1;33m\u001b[0m\u001b[0m\n\u001b[0;32m    100\u001b[0m             )\n",
      "\u001b[1;32mD:\\Anaconda\\lib\\site-packages\\google\\auth\\_default.py\u001b[0m in \u001b[0;36mdefault\u001b[1;34m(scopes, request, quota_project_id, default_scopes)\u001b[0m\n\u001b[0;32m    646\u001b[0m             \u001b[1;32mreturn\u001b[0m \u001b[0mcredentials\u001b[0m\u001b[1;33m,\u001b[0m \u001b[0meffective_project_id\u001b[0m\u001b[1;33m\u001b[0m\u001b[1;33m\u001b[0m\u001b[0m\n\u001b[0;32m    647\u001b[0m \u001b[1;33m\u001b[0m\u001b[0m\n\u001b[1;32m--> 648\u001b[1;33m     \u001b[1;32mraise\u001b[0m \u001b[0mexceptions\u001b[0m\u001b[1;33m.\u001b[0m\u001b[0mDefaultCredentialsError\u001b[0m\u001b[1;33m(\u001b[0m\u001b[0m_CLOUD_SDK_MISSING_CREDENTIALS\u001b[0m\u001b[1;33m)\u001b[0m\u001b[1;33m\u001b[0m\u001b[1;33m\u001b[0m\u001b[0m\n\u001b[0m",
      "\u001b[1;31mDefaultCredentialsError\u001b[0m: Your default credentials were not found. To set up Application Default Credentials, see https://cloud.google.com/docs/authentication/external/set-up-adc for more information."
     ]
    }
   ],
   "source": [
    "text_to_wav(\"en-AU-Neural2-A\", \"What is the temperature in Sydney?\")\n",
    "text_to_wav(\"en-GB-Neural2-B\", \"What is the temperature in London?\")\n",
    "text_to_wav(\"en-IN-Wavenet-C\", \"What is the temperature in Delhi?\")\n",
    "text_to_wav(\"en-US-Studio-O\", \"What is the temperature in New York?\")\n",
    "text_to_wav(\"fr-FR-Neural2-A\", \"Quelle est la température à Paris ?\")\n",
    "text_to_wav(\"fr-CA-Neural2-B\", \"Quelle est la température à Montréal ?\")\n"
   ]
  },
  {
   "cell_type": "code",
   "execution_count": 11,
   "id": "08c4ad51",
   "metadata": {},
   "outputs": [],
   "source": [
    "import gtts\n",
    "from playsound import playsound"
   ]
  },
  {
   "cell_type": "code",
   "execution_count": 2,
   "id": "6b622f07",
   "metadata": {},
   "outputs": [
    {
     "name": "stdout",
     "output_type": "stream",
     "text": [
      "Note: you may need to restart the kernel to use updated packages.\n"
     ]
    },
    {
     "name": "stderr",
     "output_type": "stream",
     "text": [
      "WARNING: You are using pip version 22.0.4; however, version 23.0.1 is available.\n",
      "You should consider upgrading via the 'D:\\pymongo\\python.exe -m pip install --upgrade pip' command.\n"
     ]
    },
    {
     "name": "stdout",
     "output_type": "stream",
     "text": [
      "Collecting gtts\n",
      "  Using cached gTTS-2.3.1-py3-none-any.whl (28 kB)\n",
      "Collecting click<8.2,>=7.1\n",
      "  Downloading click-8.1.3-py3-none-any.whl (96 kB)\n",
      "     ---------------------------------------- 96.6/96.6 KB 5.8 MB/s eta 0:00:00\n",
      "Requirement already satisfied: requests<3,>=2.27 in d:\\pymongo\\lib\\site-packages (from gtts) (2.28.2)\n",
      "Requirement already satisfied: colorama in d:\\pymongo\\lib\\site-packages (from click<8.2,>=7.1->gtts) (0.4.6)\n",
      "Requirement already satisfied: urllib3<1.27,>=1.21.1 in d:\\pymongo\\lib\\site-packages (from requests<3,>=2.27->gtts) (1.26.14)\n",
      "Requirement already satisfied: charset-normalizer<4,>=2 in d:\\pymongo\\lib\\site-packages (from requests<3,>=2.27->gtts) (3.0.1)\n",
      "Requirement already satisfied: certifi>=2017.4.17 in d:\\pymongo\\lib\\site-packages (from requests<3,>=2.27->gtts) (2022.12.7)\n",
      "Requirement already satisfied: idna<4,>=2.5 in d:\\pymongo\\lib\\site-packages (from requests<3,>=2.27->gtts) (3.4)\n",
      "Installing collected packages: click, gtts\n",
      "Successfully installed click-8.1.3 gtts-2.3.1\n"
     ]
    }
   ],
   "source": [
    "pip install gtts\n"
   ]
  },
  {
   "cell_type": "code",
   "execution_count": 19,
   "id": "a5218505",
   "metadata": {},
   "outputs": [],
   "source": [
    "tts = gtts.gTTS(\"வணக்கம், என் பெயர் சித்தார்த்\",lang=\"ta\")"
   ]
  },
  {
   "cell_type": "code",
   "execution_count": 20,
   "id": "9f9bb874",
   "metadata": {},
   "outputs": [],
   "source": [
    "tts.save(\"tamil.mp3\")"
   ]
  },
  {
   "cell_type": "code",
   "execution_count": 14,
   "id": "32722161",
   "metadata": {},
   "outputs": [
    {
     "name": "stderr",
     "output_type": "stream",
     "text": [
      "\n",
      "    Error 259 for command:\n",
      "        play hello.mp3 wait\n",
      "    The driver cannot recognize the specified command parameter.\n",
      "\n",
      "    Error 263 for command:\n",
      "        close hello.mp3\n",
      "    The specified device is not open or is not recognized by MCI.\n",
      "Failed to close the file: hello.mp3\n"
     ]
    },
    {
     "ename": "PlaysoundException",
     "evalue": "\n    Error 259 for command:\n        play hello.mp3 wait\n    The driver cannot recognize the specified command parameter.",
     "output_type": "error",
     "traceback": [
      "\u001b[1;31m---------------------------------------------------------------------------\u001b[0m",
      "\u001b[1;31mPlaysoundException\u001b[0m                        Traceback (most recent call last)",
      "\u001b[1;32m~\\AppData\\Local\\Temp\\ipykernel_17988\\2435908422.py\u001b[0m in \u001b[0;36m<module>\u001b[1;34m\u001b[0m\n\u001b[1;32m----> 1\u001b[1;33m \u001b[0mplaysound\u001b[0m\u001b[1;33m(\u001b[0m\u001b[1;34m\"hello.mp3\"\u001b[0m\u001b[1;33m)\u001b[0m\u001b[1;33m\u001b[0m\u001b[1;33m\u001b[0m\u001b[0m\n\u001b[0m",
      "\u001b[1;32mD:\\Anaconda\\lib\\site-packages\\playsound.py\u001b[0m in \u001b[0;36m_playsoundWin\u001b[1;34m(sound, block)\u001b[0m\n\u001b[0;32m     71\u001b[0m         \u001b[0mlogger\u001b[0m\u001b[1;33m.\u001b[0m\u001b[0mdebug\u001b[0m\u001b[1;33m(\u001b[0m\u001b[1;34m'Starting'\u001b[0m\u001b[1;33m)\u001b[0m\u001b[1;33m\u001b[0m\u001b[1;33m\u001b[0m\u001b[0m\n\u001b[0;32m     72\u001b[0m         \u001b[0mwinCommand\u001b[0m\u001b[1;33m(\u001b[0m\u001b[1;34mu'open {}'\u001b[0m\u001b[1;33m.\u001b[0m\u001b[0mformat\u001b[0m\u001b[1;33m(\u001b[0m\u001b[0msound\u001b[0m\u001b[1;33m)\u001b[0m\u001b[1;33m)\u001b[0m\u001b[1;33m\u001b[0m\u001b[1;33m\u001b[0m\u001b[0m\n\u001b[1;32m---> 73\u001b[1;33m         \u001b[0mwinCommand\u001b[0m\u001b[1;33m(\u001b[0m\u001b[1;34mu'play {}{}'\u001b[0m\u001b[1;33m.\u001b[0m\u001b[0mformat\u001b[0m\u001b[1;33m(\u001b[0m\u001b[0msound\u001b[0m\u001b[1;33m,\u001b[0m \u001b[1;34m' wait'\u001b[0m \u001b[1;32mif\u001b[0m \u001b[0mblock\u001b[0m \u001b[1;32melse\u001b[0m \u001b[1;34m''\u001b[0m\u001b[1;33m)\u001b[0m\u001b[1;33m)\u001b[0m\u001b[1;33m\u001b[0m\u001b[1;33m\u001b[0m\u001b[0m\n\u001b[0m\u001b[0;32m     74\u001b[0m         \u001b[0mlogger\u001b[0m\u001b[1;33m.\u001b[0m\u001b[0mdebug\u001b[0m\u001b[1;33m(\u001b[0m\u001b[1;34m'Returning'\u001b[0m\u001b[1;33m)\u001b[0m\u001b[1;33m\u001b[0m\u001b[1;33m\u001b[0m\u001b[0m\n\u001b[0;32m     75\u001b[0m     \u001b[1;32mfinally\u001b[0m\u001b[1;33m:\u001b[0m\u001b[1;33m\u001b[0m\u001b[1;33m\u001b[0m\u001b[0m\n",
      "\u001b[1;32mD:\\Anaconda\\lib\\site-packages\\playsound.py\u001b[0m in \u001b[0;36mwinCommand\u001b[1;34m(*command)\u001b[0m\n\u001b[0;32m     62\u001b[0m                                 '\\n    ' + errorBuffer.raw.decode('utf-16').rstrip('\\0'))\n\u001b[0;32m     63\u001b[0m             \u001b[0mlogger\u001b[0m\u001b[1;33m.\u001b[0m\u001b[0merror\u001b[0m\u001b[1;33m(\u001b[0m\u001b[0mexceptionMessage\u001b[0m\u001b[1;33m)\u001b[0m\u001b[1;33m\u001b[0m\u001b[1;33m\u001b[0m\u001b[0m\n\u001b[1;32m---> 64\u001b[1;33m             \u001b[1;32mraise\u001b[0m \u001b[0mPlaysoundException\u001b[0m\u001b[1;33m(\u001b[0m\u001b[0mexceptionMessage\u001b[0m\u001b[1;33m)\u001b[0m\u001b[1;33m\u001b[0m\u001b[1;33m\u001b[0m\u001b[0m\n\u001b[0m\u001b[0;32m     65\u001b[0m         \u001b[1;32mreturn\u001b[0m \u001b[0mbuf\u001b[0m\u001b[1;33m.\u001b[0m\u001b[0mvalue\u001b[0m\u001b[1;33m\u001b[0m\u001b[1;33m\u001b[0m\u001b[0m\n\u001b[0;32m     66\u001b[0m \u001b[1;33m\u001b[0m\u001b[0m\n",
      "\u001b[1;31mPlaysoundException\u001b[0m: \n    Error 259 for command:\n        play hello.mp3 wait\n    The driver cannot recognize the specified command parameter."
     ]
    }
   ],
   "source": [
    "playsound(\"hello.mp3\")"
   ]
  },
  {
   "cell_type": "code",
   "execution_count": 18,
   "id": "e4141806",
   "metadata": {},
   "outputs": [
    {
     "name": "stdout",
     "output_type": "stream",
     "text": [
      "{'af': 'Afrikaans', 'ar': 'Arabic', 'bg': 'Bulgarian', 'bn': 'Bengali', 'bs': 'Bosnian', 'ca': 'Catalan', 'cs': 'Czech', 'da': 'Danish', 'de': 'German', 'el': 'Greek', 'en': 'English', 'es': 'Spanish', 'et': 'Estonian', 'fi': 'Finnish', 'fr': 'French', 'gu': 'Gujarati', 'hi': 'Hindi', 'hr': 'Croatian', 'hu': 'Hungarian', 'id': 'Indonesian', 'is': 'Icelandic', 'it': 'Italian', 'iw': 'Hebrew', 'ja': 'Japanese', 'jw': 'Javanese', 'km': 'Khmer', 'kn': 'Kannada', 'ko': 'Korean', 'la': 'Latin', 'lv': 'Latvian', 'ml': 'Malayalam', 'mr': 'Marathi', 'ms': 'Malay', 'my': 'Myanmar (Burmese)', 'ne': 'Nepali', 'nl': 'Dutch', 'no': 'Norwegian', 'pl': 'Polish', 'pt': 'Portuguese', 'ro': 'Romanian', 'ru': 'Russian', 'si': 'Sinhala', 'sk': 'Slovak', 'sq': 'Albanian', 'sr': 'Serbian', 'su': 'Sundanese', 'sv': 'Swedish', 'sw': 'Swahili', 'ta': 'Tamil', 'te': 'Telugu', 'th': 'Thai', 'tl': 'Filipino', 'tr': 'Turkish', 'uk': 'Ukrainian', 'ur': 'Urdu', 'vi': 'Vietnamese', 'zh-CN': 'Chinese (Simplified)', 'zh-TW': 'Chinese (Mandarin/Taiwan)', 'zh': 'Chinese (Mandarin)'}\n"
     ]
    }
   ],
   "source": [
    "print(gtts.lang.tts_langs())"
   ]
  },
  {
   "cell_type": "code",
   "execution_count": null,
   "id": "c76668c6",
   "metadata": {},
   "outputs": [],
   "source": []
  }
 ],
 "metadata": {
  "kernelspec": {
   "display_name": "Python 3 (ipykernel)",
   "language": "python",
   "name": "python3"
  },
  "language_info": {
   "codemirror_mode": {
    "name": "ipython",
    "version": 3
   },
   "file_extension": ".py",
   "mimetype": "text/x-python",
   "name": "python",
   "nbconvert_exporter": "python",
   "pygments_lexer": "ipython3",
   "version": "3.9.13"
  }
 },
 "nbformat": 4,
 "nbformat_minor": 5
}
