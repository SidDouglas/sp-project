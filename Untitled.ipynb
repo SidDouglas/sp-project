{
 "cells": [
  {
   "cell_type": "code",
   "execution_count": null,
   "id": "5d44782a",
   "metadata": {},
   "outputs": [],
   "source": [
    "import gtts\n",
    "import speech_recognition as sr\n",
    "from googletrans import Translator\n",
    "recognizer = sr.Recognizer()\n",
    "recognizer.energy_threshold = 300\n",
    "cleanCall = sr.AudioFile('audio.wav')\n",
    "with cleanCall as source:\n",
    "    audiodata = recognizer.record(cleanCall,duration = 20)\n",
    "# type(audiodata)\n",
    "text = recognizer.recognize_google(\n",
    "  audio_data= audiodata, \n",
    "  language='en-US')\n",
    "\n",
    "translator = Translator()\n",
    "result = translator.translate(text, dest='ta')\n",
    "print(\"Result in Tamil\")\n",
    "print(result)\n",
    "result2 = translator.translate(text, dest='si')\n",
    "print(\"Result in Sinhalese\")\n",
    "result3 = translator.translate(text, dest='tr')\n",
    "print(\"Result in Turkish\")\n",
    "print(result3.text)\n",
    "\n",
    "\n",
    "tts = gtts.gTTS(result.text,lang=\"ta\")\n",
    "tts.save(\"tamilSubs.mp3\")\n",
    "tts = gtts.gTTS(result2.text,lang=\"si\")\n",
    "tts.save(\"SinhalaSubs.mp3\")\n",
    "tts = gtts.gTTS(result3.text,lang=\"tr\")\n",
    "tts.save(\"TurkishSubs.mp3\")\n",
    "\n",
    "Fs,data = read('audio.wav')\n",
    "\n",
    "plt.subplot(211)\n",
    "plt.plot(data)\n",
    "plt.xlabel('Sample')\n",
    "plt.ylabel('Amplitude')\n",
    "plt.title('Input audio signal')\n",
    "plt.show()"
   ]
  },
  {
   "cell_type": "code",
   "execution_count": null,
   "id": "b1f8a74b",
   "metadata": {},
   "outputs": [],
   "source": [
    "from scipy.io.wavfile import read\n",
    "import matplotlib.pyplot as plt\n",
    "\n",
    "Fs,data = read('testingAudio.wav')\n",
    "\n",
    "plt.subplot(211)\n",
    "plt.plot(data)\n",
    "plt.xlabel('Sample')\n",
    "plt.ylabel('Amplitude')\n",
    "plt.title('Input audio signal')\n",
    "plt.show()"
   ]
  },
  {
   "cell_type": "code",
   "execution_count": null,
   "id": "51069ee8",
   "metadata": {},
   "outputs": [],
   "source": [
    "import wave\n",
    "import speech_recognition as sr\n",
    "\n",
    "# open the WAV file\n",
    "wav_file = wave.open(\"audio.wav\", \"rb\")\n",
    "\n",
    "# read the audio frames\n",
    "frames = wav_file.readframes(-1)\n",
    "\n",
    "# create a Recognizer object\n",
    "recognizer = sr.Recognizer()\n",
    "\n",
    "# pass the audio frames to the Recognizer object to get an AudioData object\n",
    "audio_data = sr.AudioData(frames, wav_file.getframerate(), wav_file.getsampwidth())\n",
    "\n",
    "# perform speech recognition\n",
    "textio = recognizer.recognize_google(\n",
    "  audio_data= audiodata, \n",
    "  language='en-US',show_all=True)\n",
    "\n",
    "# print the recognized text\n",
    "print(textio)\n",
    "\n",
    "# close the WAV file\n",
    "wav_file.close()\n"
   ]
  },
  {
   "cell_type": "code",
   "execution_count": null,
   "id": "c7a0a3e8",
   "metadata": {},
   "outputs": [],
   "source": [
    "with wave.open(\"testingAudio.wav\", \"rb\") as audio_file:\n",
    "    num_frames = audio_file.getnframes()\n",
    "    frame_rate = audio_file.getframerate()\n",
    "    duration = num_frames / frame_rate\n",
    "    timestamps = [float(i) / frame_rate for i in range(num_frames)]"
   ]
  },
  {
   "cell_type": "code",
   "execution_count": null,
   "id": "d9487413",
   "metadata": {},
   "outputs": [],
   "source": [
    "import wave\n",
    "import speech_recognition as sr\n",
    "\n",
    "# Open the WAV file\n",
    "with wave.open(\"testingAudio.wav\", \"rb\") as f:\n",
    "    # Get the sampling rate and audio data\n",
    "    framerate = f.getframerate()\n",
    "    nframes = f.getnframes()\n",
    "    data = f.readframes(nframes)\n",
    "\n",
    "# Use SpeechRecognition to transcribe the audio data\n",
    "recognizer = sr.Recognizer()\n",
    "audio_data = sr.AudioData(data, f.getframerate(), f.getsampwidth())\n",
    "text = recognizer.recognize_google(audio_data=audio_data, language='en-US')\n",
    "\n",
    "# Split the text into individual words\n",
    "words = text.split()\n",
    "\n",
    "# Calculate and print the timestamps for each word\n",
    "cumulative_frames = 0\n",
    "for word in words:\n",
    "    # Calculate the start and end frames of the word\n",
    "    start_frame = cumulative_frames\n",
    "    end_frame = start_frame + len(word)\n",
    "\n",
    "    # Convert the start and end frames to timestamps\n",
    "    start_time = start_frame / framerate\n",
    "    end_time = end_frame / framerate\n",
    "\n",
    "    # Print the word and its timestamps\n",
    "    print(f\"{word}: {start_time:.2f} - {end_time:.2f}\")\n",
    "\n",
    "    # Update the cumulative frames counter\n",
    "    cumulative_frames = end_frame + 1  # Add one frame for the space between words\n"
   ]
  },
  {
   "cell_type": "code",
   "execution_count": null,
   "id": "79b7ed7c",
   "metadata": {},
   "outputs": [],
   "source": [
    "text"
   ]
  },
  {
   "cell_type": "code",
   "execution_count": null,
   "id": "c59c15cc",
   "metadata": {},
   "outputs": [],
   "source": [
    "from google.cloud import speech"
   ]
  },
  {
   "cell_type": "code",
   "execution_count": null,
   "id": "b648128a",
   "metadata": {},
   "outputs": [],
   "source": [
    "pip install google-cloud-speech"
   ]
  },
  {
   "cell_type": "code",
   "execution_count": null,
   "id": "b52abc51",
   "metadata": {},
   "outputs": [],
   "source": [
    "pip list\n"
   ]
  },
  {
   "cell_type": "code",
   "execution_count": 1,
   "id": "5f035767",
   "metadata": {
    "scrolled": true
   },
   "outputs": [
    {
     "name": "stdout",
     "output_type": "stream",
     "text": [
      "Waiting for operation to complete...\n",
      "Transcript: hello how are you this is Sid\n",
      "Confidence: 0.9667730927467346\n",
      "Word: hello, start_time: 0.7, end_time: 1.3\n",
      "Word: how, start_time: 1.3, end_time: 1.6\n",
      "Word: are, start_time: 1.6, end_time: 1.8\n",
      "Word: you, start_time: 1.8, end_time: 1.9\n",
      "Word: this, start_time: 1.9, end_time: 2.3\n",
      "Word: is, start_time: 2.3, end_time: 2.5\n",
      "Word: Sid, start_time: 2.5, end_time: 2.9\n"
     ]
    }
   ],
   "source": [
    "from google.cloud import speech\n",
    "client = speech.SpeechClient.from_service_account_file('key.json')\n",
    "file_name = 'testingAudio.wav'\n",
    "\n",
    "with open(file_name, 'rb') as f:\n",
    "    wav_data = f.read()\n",
    "    \n",
    "audio = speech.RecognitionAudio(content=wav_data)\n",
    "\n",
    "config = speech.RecognitionConfig(\n",
    "        encoding=speech.RecognitionConfig.AudioEncoding.LINEAR16,\n",
    "        sample_rate_hertz=48000,\n",
    "        language_code=\"en-US\",\n",
    "        enable_word_time_offsets=True,\n",
    "    )\n",
    "\n",
    "operation = client.long_running_recognize(config=config, audio=audio)\n",
    "print(\"Waiting for operation to complete...\")\n",
    "result = operation.result(timeout=90)\n",
    "\n",
    "for result in result.results:\n",
    "    alternative = result.alternatives[0]\n",
    "    print(\"Transcript: {}\".format(alternative.transcript))\n",
    "    print(\"Confidence: {}\".format(alternative.confidence))\n",
    "\n",
    "for word_info in alternative.words:\n",
    "    word = word_info.word\n",
    "    start_time = word_info.start_time\n",
    "    end_time = word_info.end_time\n",
    "    print(f\"Word: {word}, start_time: {start_time.total_seconds()}, end_time: {end_time.total_seconds()}\")\n"
   ]
  },
  {
   "cell_type": "code",
   "execution_count": 4,
   "id": "8c586675",
   "metadata": {},
   "outputs": [
    {
     "data": {
      "text/plain": [
       "<_io.BufferedRandom name='audio.wav'>"
      ]
     },
     "execution_count": 4,
     "metadata": {},
     "output_type": "execute_result"
    }
   ],
   "source": [
    "from pydub import AudioSegment\n",
    "\n",
    "# Load the stereo audio file\n",
    "audio = AudioSegment.from_wav('audio.wav')\n",
    "\n",
    "# Convert to mono\n",
    "audio = audio.set_channels(1)\n",
    "\n",
    "# Export the mono audio file\n",
    "audio.export('audio.wav', format='wav')\n"
   ]
  },
  {
   "cell_type": "code",
   "execution_count": 1,
   "id": "60bbd6db",
   "metadata": {},
   "outputs": [
    {
     "name": "stdout",
     "output_type": "stream",
     "text": [
      "Waiting for operation to complete...\n",
      "\n",
      "\n",
      "Transcript: hello everyone, my name is Aaron and me and my team are going to be presenting a web app we are planning to develop and it's going to be called and they're going to give you guys an overview of the progress has been made so far and if you guys an overview of the requirements of project and why we came up with this idea and we plan to kids at the zoo\n",
      "Confidence: 0.9223181009292603\n",
      "Transcript:  so first I'm going to give you an overview of the business case what what sparked an idea for a team to develop his app I think in the past few years that a lot of great bars and I'm set up in coming up. However due to the panda make that's being a lot of a hindrance on the growth of these bars and clubs\n",
      "Confidence: 0.9375278353691101\n"
     ]
    }
   ],
   "source": [
    "from google.cloud import speech\n",
    "import wave\n",
    "\n",
    "client = speech.SpeechClient.from_service_account_file('key.json')\n",
    "file_name = 'audio.wav'\n",
    "\n",
    "with wave.open(file_name, 'rb') as wav_file:\n",
    "    # Get the frame rate and number of channels\n",
    "    frame_rate = wav_file.getframerate()\n",
    "    num_channels = wav_file.getnchannels()\n",
    "    \n",
    "    # Read the first minute of audio frames\n",
    "    start_frame = 0\n",
    "    end_frame = frame_rate * 60\n",
    "    wav_file.setpos(start_frame)\n",
    "    frames = wav_file.readframes(end_frame - start_frame)\n",
    "    \n",
    "    # Convert the frames to bytes\n",
    "    bytes_per_sample = wav_file.getsampwidth()\n",
    "    byte_frames = bytes_per_sample * num_channels * (end_frame - start_frame)\n",
    "    wav_data = frames[:byte_frames]\n",
    "    \n",
    "audio = speech.RecognitionAudio(content=wav_data)\n",
    "\n",
    "config = speech.RecognitionConfig(\n",
    "        encoding=speech.RecognitionConfig.AudioEncoding.LINEAR16,\n",
    "        sample_rate_hertz=48000,\n",
    "        language_code=\"en-US\",\n",
    "        enable_word_time_offsets=True,\n",
    "    )\n",
    "\n",
    "operation = client.long_running_recognize(config=config, audio=audio)\n",
    "print(\"Waiting for operation to complete...\\n\\n\")\n",
    "response= operation.result()\n",
    "\n",
    "for result in response.results:\n",
    "    alternative = result.alternatives[0]\n",
    "    print(\"Transcript: {}\".format(alternative.transcript))\n",
    "    print(\"Confidence: {}\".format(alternative.confidence))"
   ]
  },
  {
   "cell_type": "code",
   "execution_count": 36,
   "id": "fba9bd77",
   "metadata": {},
   "outputs": [
    {
     "name": "stdout",
     "output_type": "stream",
     "text": [
      "Words in group with start_time.seconds = 0:\n",
      "['hello']\n",
      "\n",
      "Words in group with start_time.seconds = 1:\n",
      "['how', 'are', 'you', 'this']\n",
      "\n",
      "Words in group with start_time.seconds = 2:\n",
      "['is', 'Sid']\n",
      "\n"
     ]
    }
   ],
   "source": [
    "import pandas as pd\n",
    "\n",
    "content =[]\n",
    "for i in range(len(alternative.words)):\n",
    "    content.append({'Word' : alternative.words[i].word, 'Start_time' :alternative.words[i].start_time.seconds })\n",
    "#     print((alternative.words[i].start_time.seconds))\n",
    "#     print((alternative.words[i].word))\n",
    "\n",
    "\n",
    "# create a DataFrame from the list of dictionaries\n",
    "df = pd.DataFrame(content)\n",
    "# print(df)\n",
    "# group by start_time seconds\n",
    "grouped = df.groupby('Start_time')\n",
    "\n",
    "# # iterate over the groups and print the words in each group\n",
    "for name, group in grouped:\n",
    "    print(f\"Words in group with start_time.seconds = {name}:\")\n",
    "    print(group['Word'].tolist())\n",
    "    print()\n"
   ]
  },
  {
   "cell_type": "code",
   "execution_count": 9,
   "id": "83412164",
   "metadata": {},
   "outputs": [],
   "source": [
    "from google.protobuf.json_format import MessageToDict"
   ]
  },
  {
   "cell_type": "code",
   "execution_count": 37,
   "id": "373b09e6",
   "metadata": {},
   "outputs": [
    {
     "name": "stdout",
     "output_type": "stream",
     "text": [
      "[start_time {\n",
      "  nanos: 700000000\n",
      "}\n",
      "end_time {\n",
      "  seconds: 1\n",
      "  nanos: 300000000\n",
      "}\n",
      "word: \"hello\"\n",
      ", start_time {\n",
      "  seconds: 1\n",
      "  nanos: 300000000\n",
      "}\n",
      "end_time {\n",
      "  seconds: 1\n",
      "  nanos: 600000000\n",
      "}\n",
      "word: \"how\"\n",
      ", start_time {\n",
      "  seconds: 1\n",
      "  nanos: 600000000\n",
      "}\n",
      "end_time {\n",
      "  seconds: 1\n",
      "  nanos: 800000000\n",
      "}\n",
      "word: \"are\"\n",
      ", start_time {\n",
      "  seconds: 1\n",
      "  nanos: 800000000\n",
      "}\n",
      "end_time {\n",
      "  seconds: 1\n",
      "  nanos: 900000000\n",
      "}\n",
      "word: \"you\"\n",
      ", start_time {\n",
      "  seconds: 1\n",
      "  nanos: 900000000\n",
      "}\n",
      "end_time {\n",
      "  seconds: 2\n",
      "  nanos: 300000000\n",
      "}\n",
      "word: \"this\"\n",
      ", start_time {\n",
      "  seconds: 2\n",
      "  nanos: 300000000\n",
      "}\n",
      "end_time {\n",
      "  seconds: 2\n",
      "  nanos: 500000000\n",
      "}\n",
      "word: \"is\"\n",
      ", start_time {\n",
      "  seconds: 2\n",
      "  nanos: 500000000\n",
      "}\n",
      "end_time {\n",
      "  seconds: 2\n",
      "  nanos: 900000000\n",
      "}\n",
      "word: \"Sid\"\n",
      "]\n"
     ]
    }
   ],
   "source": [
    "print(alternative.words)"
   ]
  },
  {
   "cell_type": "code",
   "execution_count": 5,
   "id": "fb12b481",
   "metadata": {},
   "outputs": [
    {
     "name": "stdout",
     "output_type": "stream",
     "text": [
      "Transcript: hello everyone, my name is Aaron and me and my team are going to be presenting a web app we are planning to develop and it's going to be called and they're going to give you guys an overview of the progress has been made so far and if you guys an overview of the requirements of project and why we came up with this idea and we plan to kids at the zoo\n",
      "Confidence: 0.9223181009292603\n",
      "Transcript:  so first I'm going to give you an overview of the business case what what sparked an idea for a team to develop his app I think in the past few years that a lot of great bars and I'm set up in coming up. However due to the panda make that's being a lot of a hindrance on the growth of these bars and clubs\n",
      "Confidence: 0.9375278353691101\n"
     ]
    }
   ],
   "source": [
    "for result in response.results:\n",
    "    alternative = result.alternatives[0]\n",
    "    print(\"Transcript: {}\".format(alternative.transcript))\n",
    "    print(\"Confidence: {}\".format(alternative.confidence))"
   ]
  },
  {
   "cell_type": "code",
   "execution_count": null,
   "id": "ce15e8b2",
   "metadata": {},
   "outputs": [],
   "source": []
  }
 ],
 "metadata": {
  "kernelspec": {
   "display_name": "Python 3 (ipykernel)",
   "language": "python",
   "name": "python3"
  },
  "language_info": {
   "codemirror_mode": {
    "name": "ipython",
    "version": 3
   },
   "file_extension": ".py",
   "mimetype": "text/x-python",
   "name": "python",
   "nbconvert_exporter": "python",
   "pygments_lexer": "ipython3",
   "version": "3.9.13"
  }
 },
 "nbformat": 4,
 "nbformat_minor": 5
}
